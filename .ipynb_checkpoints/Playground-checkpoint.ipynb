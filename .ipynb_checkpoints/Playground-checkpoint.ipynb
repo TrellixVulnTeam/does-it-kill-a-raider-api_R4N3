{
 "cells": [
  {
   "cell_type": "code",
   "execution_count": 68,
   "id": "9874768c-7d58-4db3-84c9-b5b1d301bf17",
   "metadata": {},
   "outputs": [],
   "source": [
    "import dice\n",
    "\n",
    "sample_specs = {\n",
    "    \"bs\":3,\n",
    "    \"shots\":\"10\",\n",
    "    \"s\":6,\n",
    "    \"ap\":1,\n",
    "    \"d\":\"2\",\n",
    "    \"reroll_hit\":\"all\", #\"ones\", \"all\", \"none\"\n",
    "    \"reroll_wound\":\"all\", #\"ones\", \"all\", \"none\"\n",
    "    \"lightning_fast\":True # True, False\n",
    "}"
   ]
  },
  {
   "cell_type": "code",
   "execution_count": 2,
   "id": "23063880",
   "metadata": {},
   "outputs": [],
   "source": [
    "defensive_specs = {\n",
    "    \"t\":6,\n",
    "    \"save\":4,\n",
    "    \"invul\":5\n",
    "}"
   ]
  },
  {
   "cell_type": "code",
   "execution_count": 3,
   "id": "e53bbc9c-bfba-408d-a279-2df9308aad09",
   "metadata": {
    "tags": []
   },
   "outputs": [],
   "source": [
    "def gen_results_dict(sides=6):\n",
    "    results = dict()\n",
    "    for x in range(1,sides+1):\n",
    "        results[x]=0\n",
    "    return results"
   ]
  },
  {
   "cell_type": "code",
   "execution_count": 4,
   "id": "a0ca09e0-6443-4a65-aa2f-c30d79f0439f",
   "metadata": {},
   "outputs": [],
   "source": [
    "def roll_x_dice(num, sides=6):\n",
    "    if not isinstance(sides, int):\n",
    "        raise Exception('Sides must be integer')\n",
    "    if not isinstance(num, int):\n",
    "        raise Exception('Num must be integer!')\n",
    "    res = dice.roll(str(num)+'d'+str(sides))\n",
    "    return res"
   ]
  },
  {
   "cell_type": "code",
   "execution_count": 5,
   "id": "b1c63b27-20b6-49f2-b3c1-9055842bd2cd",
   "metadata": {},
   "outputs": [],
   "source": [
    "def get_results(rolls, requirement, sides=6):\n",
    "    successes = 0\n",
    "    fails = 0\n",
    "    results = gen_results_dict(sides)\n",
    "    for result in rolls:\n",
    "        results[result] += 1\n",
    "        if result >= requirement:\n",
    "            successes += 1\n",
    "        else:\n",
    "            fails += 1\n",
    "    return {\"successes\": successes, \"fails\": fails, \"individual_results\": results}"
   ]
  },
  {
   "cell_type": "code",
   "execution_count": 6,
   "id": "5a69175d-a9bb-4630-96c9-2382410172c8",
   "metadata": {},
   "outputs": [],
   "source": [
    "res = roll_x_dice(100)\n",
    "final=get_results(res, 4)\n"
   ]
  },
  {
   "cell_type": "code",
   "execution_count": 7,
   "id": "4e04ec97-cd4a-4e0a-98c6-13b13a34b98c",
   "metadata": {},
   "outputs": [],
   "source": [
    "def reroll_results(original_results, requirement, sides=6):\n",
    "    original_fails = 0\n",
    "    final_successes = 0\n",
    "    final_fails = 0\n",
    "    results = gen_results_dict(sides)\n",
    "    \n",
    "    for result in original_results:\n",
    "        if result >= requirement:\n",
    "            final_successes += 1\n",
    "            results[result] += 1\n",
    "        else:\n",
    "            original_fails +=1\n",
    "            \n",
    "    rerolls = roll_x_dice(original_fails, sides)\n",
    "    for result in rerolls:\n",
    "        results[result] += 1\n",
    "        if result >= requirement:\n",
    "            final_successes += 1\n",
    "        else:\n",
    "            final_fails += 1\n",
    "    return {\"successes\": final_successes, \"fails\": final_fails, \"individual_results\": results}\n",
    "    \n",
    "    \n",
    "    "
   ]
  },
  {
   "cell_type": "code",
   "execution_count": 8,
   "id": "27be72ea-034d-4091-b2f8-3b8b017cb6db",
   "metadata": {},
   "outputs": [],
   "source": [
    "def reroll_ones(original_results, requirement, sides=6):\n",
    "    ones = 0\n",
    "    final_successes = 0\n",
    "    final_fails = 0\n",
    "    results = gen_results_dict(sides)\n",
    "    \n",
    "    for result in original_results:\n",
    "        if result >= requirement:\n",
    "            final_successes += 1\n",
    "            results[result] += 1\n",
    "        elif result == 1:\n",
    "            ones +=1\n",
    "        else:\n",
    "            results[result] += 1\n",
    "            final_fails +=1\n",
    "            \n",
    "    rerolls = roll_x_dice(ones, sides)\n",
    "    for result in rerolls:\n",
    "        results[result] += 1\n",
    "        if result >= requirement:\n",
    "            final_successes += 1\n",
    "        else:\n",
    "            final_fails += 1\n",
    "    return {\"successes\": final_successes, \"fails\": final_fails, \"individual_results\": results}"
   ]
  },
  {
   "cell_type": "code",
   "execution_count": 9,
   "id": "3b01d71e-09b3-4d6f-a559-4cca3b83cf93",
   "metadata": {},
   "outputs": [],
   "source": [
    "def parse_dice_string(dice_string):\n",
    "    output = {\n",
    "        \"type_string\":'',\n",
    "        \"number_of_dice\":'1',\n",
    "        \"plus_modifier\":0\n",
    "    }\n",
    "    d_index = dice_string.index('d')\n",
    "    type_string = 'd'+dice_string[d_index+1]\n",
    "    output[\"type_string\"] = type_string\n",
    "    if d_index != 0:\n",
    "        number_of_dice = dice_string[0]\n",
    "        output[\"number_of_dice\"]=number_of_dice\n",
    "    if \"+\" in dice_string:\n",
    "        plus_index = dice_string.index('+')\n",
    "        plus_modifier = dice_string[plus_index+1:]\n",
    "        output[\"plus_modifier\"]=int(plus_modifier)\n",
    "    return output\n",
    "        "
   ]
  },
  {
   "cell_type": "code",
   "execution_count": 10,
   "id": "d119b116",
   "metadata": {},
   "outputs": [
    {
     "data": {
      "text/plain": [
       "{'type_string': 'd3', 'number_of_dice': '3', 'plus_modifier': 3}"
      ]
     },
     "execution_count": 10,
     "metadata": {},
     "output_type": "execute_result"
    }
   ],
   "source": [
    "parse_dice_string(\"3d3+3\")"
   ]
  },
  {
   "cell_type": "code",
   "execution_count": 11,
   "id": "4fa4b77f-b484-4dd8-af9b-e704ec4c7be2",
   "metadata": {
    "scrolled": false
   },
   "outputs": [
    {
     "name": "stdout",
     "output_type": "stream",
     "text": [
      "{'type_string': 'd6', 'number_of_dice': '1', 'plus_modifier': 2}\n"
     ]
    }
   ],
   "source": [
    "print(parse_dice_string('d6+2'))"
   ]
  },
  {
   "cell_type": "code",
   "execution_count": 12,
   "id": "bf6e6d0a",
   "metadata": {},
   "outputs": [],
   "source": [
    "def roll_dice_string(dice_string):\n",
    "    if \"d\" in dice_string:\n",
    "        parsed_dice_string = parse_dice_string(dice_string)\n",
    "        dice_result = dice.roll(parsed_dice_string['number_of_dice']+parsed_dice_string['type_string'])\n",
    "        return sum(dice_result)+ parsed_dice_string[\"plus_modifier\"]\n",
    "    else:\n",
    "        return int(dice_string)"
   ]
  },
  {
   "cell_type": "code",
   "execution_count": 13,
   "id": "1e13cb48-ab93-4f0f-8e11-c705a4d91b4a",
   "metadata": {},
   "outputs": [],
   "source": [
    "def determine_number_of_shots(specs):\n",
    "    shots = specs[\"shots\"]\n",
    "    return roll_dice_string(shots)"
   ]
  },
  {
   "cell_type": "code",
   "execution_count": 14,
   "id": "e9a4c67d-a517-4e19-950d-6a15129e6a64",
   "metadata": {},
   "outputs": [],
   "source": [
    "def normalise_hit_requirement(req):\n",
    "    if req>6:\n",
    "        return 6\n",
    "    elif req<2:\n",
    "        return 2\n",
    "    else:\n",
    "        return req\n",
    "\n",
    "def roll_to_hit(specs):\n",
    "    number_of_shots = determine_number_of_shots(specs)\n",
    "    hit_rolls = roll_x_dice(number_of_shots)\n",
    "    hit_requirement = normalise_hit_requirement(specs[\"bs\"]-1 if specs[\"lightning_fast\"] else specs[\"bs\"] )\n",
    "    if specs[\"reroll_hit\"]==\"ones\":\n",
    "        return reroll_ones(hit_rolls, specs[\"bs\"])\n",
    "    elif specs[\"reroll_hit\"]==\"all\":\n",
    "        return reroll_results(hit_rolls, specs[\"bs\"])\n",
    "    else:\n",
    "        return get_results(hit_rolls,specs[\"bs\"] )"
   ]
  },
  {
   "cell_type": "code",
   "execution_count": 15,
   "id": "ed4dcdab-bb34-44a8-a848-ed81daae5fe4",
   "metadata": {},
   "outputs": [],
   "source": [
    "hit_results = roll_to_hit(sample_specs)"
   ]
  },
  {
   "cell_type": "code",
   "execution_count": 16,
   "id": "58cdcd3b-54bd-4238-961e-82bfaacef987",
   "metadata": {},
   "outputs": [],
   "source": [
    "def get_wound_requirements(strength, toughness):\n",
    "    if strength == toughness:\n",
    "        return 4\n",
    "    elif strength < toughness:\n",
    "        if strength <= toughness/2:\n",
    "            return 6\n",
    "        else:\n",
    "            return 5\n",
    "    else :\n",
    "        if strength >= toughness*2:\n",
    "            return 2\n",
    "        else:\n",
    "            return 3\n",
    "        "
   ]
  },
  {
   "cell_type": "code",
   "execution_count": 17,
   "id": "67eec0ac-1498-4c5f-9820-b6f1dd9b1641",
   "metadata": {},
   "outputs": [],
   "source": [
    "def roll_to_wound(specs, hit_results, defensive_specs):\n",
    "    wound_requirement = get_wound_requirements(specs[\"s\"], defensive_specs[\"t\"])\n",
    "    wound_rolls = roll_x_dice(hit_results['successes'])\n",
    "    if specs[\"reroll_wound\"]==\"ones\":\n",
    "        return reroll_ones(wound_rolls, wound_requirement)\n",
    "    elif specs[\"reroll_wound\"]==\"all\":\n",
    "        return reroll_results(wound_rolls,wound_requirement)\n",
    "    else:\n",
    "        return get_results(wound_rolls,wound_requirement)"
   ]
  },
  {
   "cell_type": "code",
   "execution_count": 18,
   "id": "fd00f251-217f-41c5-bc70-69a4dfe0f552",
   "metadata": {},
   "outputs": [],
   "source": [
    "wound_results = roll_to_wound(sample_specs,hit_results,defensive_specs)"
   ]
  },
  {
   "cell_type": "code",
   "execution_count": 19,
   "id": "052f02a7-27f3-4890-8602-1a7e4524ad95",
   "metadata": {},
   "outputs": [],
   "source": [
    "def get_save_requirement(ap, save, invul=None):\n",
    "    modified_save = save-ap\n",
    "    if invul and modified_save > invul:\n",
    "        return invul\n",
    "    return modified_save"
   ]
  },
  {
   "cell_type": "code",
   "execution_count": 20,
   "id": "5ec1355c-654b-4889-93ef-aef08697c136",
   "metadata": {},
   "outputs": [],
   "source": [
    "def roll_to_save(specs, wound_results, defensive_specs):\n",
    "    save_requirement = get_save_requirement(specs[\"ap\"], defensive_specs[\"save\"], defensive_specs[\"invul\"])\n",
    "    save_rolls = roll_x_dice(wound_results['successes'])\n",
    "    return get_results(save_rolls, save_requirement)"
   ]
  },
  {
   "cell_type": "code",
   "execution_count": 21,
   "id": "63c5c5cb-6e38-4602-9e0b-911bfcf0476e",
   "metadata": {},
   "outputs": [],
   "source": [
    "save_results = roll_to_save(sample_specs, wound_results,defensive_specs)"
   ]
  },
  {
   "cell_type": "code",
   "execution_count": 22,
   "id": "2468d927-8cb8-495a-aea8-9b13a9fb6d83",
   "metadata": {},
   "outputs": [],
   "source": [
    "def get_damage_results(specs, save_results):\n",
    "    total_damage = 0\n",
    "    for wound in range(save_results[\"fails\"]):\n",
    "        total_damage += roll_dice_string(specs[\"d\"])\n",
    "    return total_damage        "
   ]
  },
  {
   "cell_type": "code",
   "execution_count": 23,
   "id": "44a3b445",
   "metadata": {},
   "outputs": [],
   "source": [
    "damage_results = get_damage_results(sample_specs, save_results)"
   ]
  },
  {
   "cell_type": "code",
   "execution_count": 29,
   "id": "ac2d3012",
   "metadata": {},
   "outputs": [],
   "source": [
    "def simulate (offensive_specs, defensive_specs):\n",
    "    hit_results = roll_to_hit(offensive_specs)\n",
    "    wound_results = roll_to_wound(offensive_specs,hit_results,defensive_specs)\n",
    "    save_results = roll_to_save(offensive_specs, wound_results,defensive_specs)\n",
    "    damage_results = get_damage_results(offensive_specs, save_results)\n",
    "    return damage_results"
   ]
  },
  {
   "cell_type": "code",
   "execution_count": 74,
   "id": "2b6f6d5c",
   "metadata": {},
   "outputs": [
    {
     "data": {
      "text/plain": [
       "4"
      ]
     },
     "execution_count": 74,
     "metadata": {},
     "output_type": "execute_result"
    }
   ],
   "source": [
    "simulate(sample_specs, defensive_specs)"
   ]
  },
  {
   "cell_type": "code",
   "execution_count": null,
   "id": "414515c6",
   "metadata": {},
   "outputs": [],
   "source": []
  }
 ],
 "metadata": {
  "kernelspec": {
   "display_name": "Python 3",
   "language": "python",
   "name": "python3"
  },
  "language_info": {
   "codemirror_mode": {
    "name": "ipython",
    "version": 3
   },
   "file_extension": ".py",
   "mimetype": "text/x-python",
   "name": "python",
   "nbconvert_exporter": "python",
   "pygments_lexer": "ipython3",
   "version": "3.8.2"
  }
 },
 "nbformat": 4,
 "nbformat_minor": 5
}
