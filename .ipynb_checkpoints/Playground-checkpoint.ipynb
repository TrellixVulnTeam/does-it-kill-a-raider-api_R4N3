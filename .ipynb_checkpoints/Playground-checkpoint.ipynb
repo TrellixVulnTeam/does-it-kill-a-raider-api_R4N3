{
 "cells": [
  {
   "cell_type": "code",
   "execution_count": 10,
   "id": "9874768c-7d58-4db3-84c9-b5b1d301bf17",
   "metadata": {},
   "outputs": [],
   "source": [
    "import dice"
   ]
  },
  {
   "cell_type": "code",
   "execution_count": 48,
   "id": "e53bbc9c-bfba-408d-a279-2df9308aad09",
   "metadata": {
    "tags": []
   },
   "outputs": [],
   "source": [
    "def gen_results_dict(sides):\n",
    "    results = dict()\n",
    "    for x in range(1,sides+1):\n",
    "        results[x]=0\n",
    "    return results"
   ]
  },
  {
   "cell_type": "code",
   "execution_count": 49,
   "id": "a0ca09e0-6443-4a65-aa2f-c30d79f0439f",
   "metadata": {},
   "outputs": [],
   "source": [
    "def roll_x_dice(num, sides):\n",
    "    if not isinstance(sides, int):\n",
    "        raise Exception('Sides must be integer')\n",
    "    if not isinstance(num, int):\n",
    "        raise Exception('Num must be integer!')\n",
    "    res = dice.roll(str(num)+'d'+str(sides))\n",
    "    return res"
   ]
  },
  {
   "cell_type": "code",
   "execution_count": 50,
   "id": "b1c63b27-20b6-49f2-b3c1-9055842bd2cd",
   "metadata": {},
   "outputs": [],
   "source": [
    "def get_results(rolls, requirement, sides):\n",
    "    successes = 0\n",
    "    fails = 0\n",
    "    results = gen_results_dict(sides)\n",
    "    for result in rolls:\n",
    "        results[result] += 1\n",
    "        if result >= requirement:\n",
    "            successes += 1\n",
    "        else:\n",
    "            fails += 1\n",
    "    return {\"successes\": successes, \"fails\": fails, \"individual_results\": results}"
   ]
  },
  {
   "cell_type": "code",
   "execution_count": 51,
   "id": "5a69175d-a9bb-4630-96c9-2382410172c8",
   "metadata": {},
   "outputs": [
    {
     "name": "stdout",
     "output_type": "stream",
     "text": [
      "{'successes': 50, 'fails': 50, 'individual_results': {1: 17, 2: 19, 3: 14, 4: 19, 5: 13, 6: 18}}\n"
     ]
    }
   ],
   "source": [
    "res = roll_x_dice(100,6)\n",
    "final=get_results(res, 4,6)\n",
    "print(final)\n"
   ]
  },
  {
   "cell_type": "code",
   "execution_count": 52,
   "id": "4e04ec97-cd4a-4e0a-98c6-13b13a34b98c",
   "metadata": {},
   "outputs": [],
   "source": [
    "def reroll_results(original_results, requirement, sides):\n",
    "    original_fails = 0\n",
    "    final_successes = 0\n",
    "    final_fails = 0\n",
    "    results = gen_results_dict(sides)\n",
    "    \n",
    "    for result in original_results:\n",
    "        if result >= requirement:\n",
    "            final_successes += 1\n",
    "            results[result] += 1\n",
    "        else:\n",
    "            original_fails +=1\n",
    "            \n",
    "    rerolls = roll_x_dice(original_fails, sides)\n",
    "    for result in rerolls:\n",
    "        results[result] += 1\n",
    "        if result >= requirement:\n",
    "            final_successes += 1\n",
    "        else:\n",
    "            final_fails += 1\n",
    "    return {\"successes\": final_successes, \"fails\": final_fails, \"individual_results\": results}\n",
    "    \n",
    "    \n",
    "    "
   ]
  },
  {
   "cell_type": "code",
   "execution_count": 53,
   "id": "27be72ea-034d-4091-b2f8-3b8b017cb6db",
   "metadata": {},
   "outputs": [],
   "source": [
    "def reroll_ones(original_results, requirement, sides):\n",
    "    ones = 0\n",
    "    final_successes = 0\n",
    "    final_fails = 0\n",
    "    results = gen_results_dict(sides)\n",
    "    \n",
    "    for result in original_results:\n",
    "        if result >= requirement:\n",
    "            final_successes += 1\n",
    "            results[result] += 1\n",
    "        elif result == 1:\n",
    "            ones +=1\n",
    "        else:\n",
    "            results[result] += 1\n",
    "            final_fails +=1\n",
    "            \n",
    "    rerolls = roll_x_dice(ones, sides)\n",
    "    for result in rerolls:\n",
    "        results[result] += 1\n",
    "        if result >= requirement:\n",
    "            final_successes += 1\n",
    "        else:\n",
    "            final_fails += 1\n",
    "    return {\"successes\": final_successes, \"fails\": final_fails, \"individual_results\": results}"
   ]
  },
  {
   "cell_type": "code",
   "execution_count": 54,
   "id": "1c735f19-4fb6-4997-af2d-d3f19faeeeea",
   "metadata": {},
   "outputs": [
    {
     "name": "stdout",
     "output_type": "stream",
     "text": [
      "{'successes': 5833, 'fails': 4167, 'individual_results': {1: 255, 2: 1915, 3: 1997, 4: 1964, 5: 1865, 6: 2004}}\n"
     ]
    }
   ],
   "source": [
    "res = roll_x_dice(10000,6)\n",
    "final=reroll_ones(res, 4,6)\n",
    "print(final)\n"
   ]
  },
  {
   "cell_type": "code",
   "execution_count": 4,
   "id": "938bd7fe-1579-43e0-9791-e4dcdadf74b1",
   "metadata": {},
   "outputs": [],
   "source": [
    "sample_specs = {\n",
    "    \"bs\":3,\n",
    "    \"shots\":\"3\",\n",
    "    \"s\":5,\n",
    "    \"ap\":1,\n",
    "    \"d\":\"2\",\n",
    "    \"reroll_hit\":\"ones\", #\"ones\", \"all\", \"none\"\n",
    "    \"reroll_wound\":\"ones\", #\"ones\", \"all\", \"none\"\n",
    "    \"lightning_fast\":True # True, False\n",
    "}"
   ]
  },
  {
   "cell_type": "code",
   "execution_count": 10,
   "id": "3b01d71e-09b3-4d6f-a559-4cca3b83cf93",
   "metadata": {},
   "outputs": [],
   "source": [
    "def parse_dice_string(dice_string):\n",
    "    output = {\n",
    "        \"type_string\":'',\n",
    "        \"number_of_dice\":1\n",
    "    }\n",
    "    d_index = dice_string.index('d')\n",
    "    type_string = 'd'+dice_string[d_index+1]\n",
    "    output[\"type_string\"] = type_string\n",
    "    if d_index != 0:\n",
    "        number_of_dice = dice_string[0]\n",
    "        output[\"number_of_dice\"]=number_of_dice\n",
    "    return output\n",
    "        "
   ]
  },
  {
   "cell_type": "code",
   "execution_count": 14,
   "id": "4fa4b77f-b484-4dd8-af9b-e704ec4c7be2",
   "metadata": {},
   "outputs": [
    {
     "name": "stdout",
     "output_type": "stream",
     "text": [
      "{'type_string': 'd3', 'number_of_dice': '3'}\n"
     ]
    }
   ],
   "source": [
    "print(parse_dice_string('3d3'))"
   ]
  },
  {
   "cell_type": "code",
   "execution_count": null,
   "id": "1e13cb48-ab93-4f0f-8e11-c705a4d91b4a",
   "metadata": {},
   "outputs": [],
   "source": []
  }
 ],
 "metadata": {
  "kernelspec": {
   "display_name": "Python 3",
   "language": "python",
   "name": "python3"
  },
  "language_info": {
   "codemirror_mode": {
    "name": "ipython",
    "version": 3
   },
   "file_extension": ".py",
   "mimetype": "text/x-python",
   "name": "python",
   "nbconvert_exporter": "python",
   "pygments_lexer": "ipython3",
   "version": "3.8.2"
  }
 },
 "nbformat": 4,
 "nbformat_minor": 5
}
